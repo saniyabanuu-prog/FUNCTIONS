{
  "nbformat": 4,
  "nbformat_minor": 0,
  "metadata": {
    "colab": {
      "provenance": []
    },
    "kernelspec": {
      "name": "python3",
      "display_name": "Python 3"
    },
    "language_info": {
      "name": "python"
    }
  },
  "cells": [
    {
      "cell_type": "markdown",
      "source": [
        "THEORY QUESTIONS\n"
      ],
      "metadata": {
        "id": "MK-0ZYQCO56t"
      }
    },
    {
      "cell_type": "markdown",
      "source": [
        "1. What is the difference between a function and a method in Python?\n",
        "   -  Function: Independent block of code.\n",
        "- Method: Function associated with an object/class.\n",
        "Example:\n",
        "def add(a, b): return a + b\n",
        "class Math:\n",
        " def multiply(self, x, y): return x * y\n"
      ],
      "metadata": {
        "id": "vqskqEfNO_D7"
      }
    },
    {
      "cell_type": "markdown",
      "source": [
        "2. Explain the concept of function arguments and parameters in Python.\n",
        "   - Parameter: variable in function definition.\n",
        "- Argument: actual value passed.\n",
        "Example:\n",
        "def greet(name): return f\"Hello {name}\"\n",
        "greet(\"Alice\")"
      ],
      "metadata": {
        "id": "QcaPziBfPVZ3"
      }
    },
    {
      "cell_type": "markdown",
      "source": [
        "3. What are the different ways to define and call a function in Python?\n",
        "   - Normal function, lambda, built-in functions."
      ],
      "metadata": {
        "id": "yd6IrgbjPiSw"
      }
    },
    {
      "cell_type": "markdown",
      "source": [
        "4. What is the purpose of the `return` statement in a Python function?\n",
        "   -  Sends result back from function."
      ],
      "metadata": {
        "id": "CB9rfxtcPucl"
      }
    },
    {
      "cell_type": "markdown",
      "source": [
        "5.. What are iterators in Python and how do they differ from iterables?\n",
        "\n",
        "   -  Iterable: can be looped (list, tuple).\n",
        "- Iterator: has __iter__() and __next__().\n"
      ],
      "metadata": {
        "id": "OJHeWtwfP04_"
      }
    },
    {
      "cell_type": "markdown",
      "source": [
        "6.. Explain the concept of generators in Python and how they are defined\n",
        "    \n",
        "  - Function using yield to produce sequence lazily.\n"
      ],
      "metadata": {
        "id": "rrNT_98YP9cd"
      }
    },
    {
      "cell_type": "markdown",
      "source": [
        "7. What are the advantages of using generators over regular functions?\n",
        "    - - Save memory, lazy evaluation, efficient for large data.\n",
        "    "
      ],
      "metadata": {
        "id": "PyDf64UjQTMQ"
      }
    },
    {
      "cell_type": "markdown",
      "source": [
        "8. What is a lambda function in Python and when is it typically used?\n",
        "   - - Anonymous single-line functions."
      ],
      "metadata": {
        "id": "M5pZv7q3QdQn"
      }
    },
    {
      "cell_type": "markdown",
      "source": [
        "9. Explain the purpose and usage of the `map()` function in Python.\n",
        "   - - Applies function to all elements of iterable."
      ],
      "metadata": {
        "id": "Uri3xUMce19p"
      }
    },
    {
      "cell_type": "code",
      "source": [
        "10. What is the difference between `map()`, `reduce()`, and `filter()` functions in Python?\n",
        "    - - map(): transform, filter(): select, reduce(): aggregate."
      ],
      "metadata": {
        "id": "m8q8Lr9bPm1W"
      },
      "execution_count": null,
      "outputs": []
    },
    {
      "cell_type": "markdown",
      "source": [
        "11. Using pen & Paper write the internal mechanism for sum operation using  reduce function on this given\n",
        "list:[47,11,42,13];\n",
        "   - Step1: 47+11=58\n",
        "    Step2: 58+42=100\n",
        "    Step3: 100+13=113\n",
        "    Answer=113"
      ],
      "metadata": {
        "id": "9fUH9DWNfGE0"
      }
    },
    {
      "cell_type": "code",
      "source": [
        "PRACTICAL QUESTIONS\n"
      ],
      "metadata": {
        "id": "KdO_jx0pfSLR"
      },
      "execution_count": null,
      "outputs": []
    },
    {
      "cell_type": "markdown",
      "source": [
        "1. Write a Python function that takes a list of numbers as input and returns the sum of all even numbers in\n",
        "the list.\n",
        "\n"
      ],
      "metadata": {
        "id": "OtOHoqvJfUye"
      }
    },
    {
      "cell_type": "code",
      "source": [
        "# 1. Write a Python function that takes a list of numbers as input and returns the sum of all even numbers in\n",
        "#the list.\n",
        "def sum_even(nums):\n",
        "    return sum(n for n in nums if n%2==0)\n",
        "\n",
        "print(sum_even([1,2,3,4,5,6]))  # 12\n"
      ],
      "metadata": {
        "colab": {
          "base_uri": "https://localhost:8080/"
        },
        "id": "9Gt7kEJkfjOo",
        "outputId": "1868c460-1698-46c1-ae1e-92facb4693f5"
      },
      "execution_count": 3,
      "outputs": [
        {
          "output_type": "stream",
          "name": "stdout",
          "text": [
            "12\n"
          ]
        }
      ]
    },
    {
      "cell_type": "code",
      "source": [
        "#2. Create a Python function that accepts a string and returns the reverse of that string.\n",
        "def reverse_string(s):\n",
        "    return s[::-1]\n",
        "\n",
        "print(reverse_string(\"hello\"))  # \"olleh\""
      ],
      "metadata": {
        "colab": {
          "base_uri": "https://localhost:8080/"
        },
        "id": "2l0LNyGigNVk",
        "outputId": "e16a70e6-0127-4504-8221-adaf908e3270"
      },
      "execution_count": 4,
      "outputs": [
        {
          "output_type": "stream",
          "name": "stdout",
          "text": [
            "olleh\n"
          ]
        }
      ]
    },
    {
      "cell_type": "code",
      "source": [
        "\"\"\"3. Implement a Python function that takes a list of integers and returns a new list containing the squares of\n",
        "each number.\"\"\"\n",
        "def square_list(lst):\n",
        "    return [x**2 for x in lst]\n",
        "\n",
        "print(square_list([1,2,3]))  # [1,4,9]\n"
      ],
      "metadata": {
        "colab": {
          "base_uri": "https://localhost:8080/"
        },
        "id": "uLSi8WX8gWmB",
        "outputId": "73043ed4-4ae2-4120-f77f-318e60f8cd8f"
      },
      "execution_count": 6,
      "outputs": [
        {
          "output_type": "stream",
          "name": "stdout",
          "text": [
            "[1, 4, 9]\n"
          ]
        }
      ]
    },
    {
      "cell_type": "code",
      "source": [
        "#.4 Write a Python function that checks if a given number is prime or not from 1 to 200.\n",
        "def is_prime(n):\n",
        "    if n < 2: return False\n",
        "    for i in range(2,int(n**0.5)+1):\n",
        "        if n%i==0: return False\n",
        "    return True\n",
        "\n",
        "print([n for n in range(1,201) if is_prime(n)])"
      ],
      "metadata": {
        "colab": {
          "base_uri": "https://localhost:8080/"
        },
        "id": "IxNTGY0cgcCE",
        "outputId": "632245e7-d752-4427-d56b-f448e4a9f0d9"
      },
      "execution_count": 7,
      "outputs": [
        {
          "output_type": "stream",
          "name": "stdout",
          "text": [
            "[2, 3, 5, 7, 11, 13, 17, 19, 23, 29, 31, 37, 41, 43, 47, 53, 59, 61, 67, 71, 73, 79, 83, 89, 97, 101, 103, 107, 109, 113, 127, 131, 137, 139, 149, 151, 157, 163, 167, 173, 179, 181, 191, 193, 197, 199]\n"
          ]
        }
      ]
    },
    {
      "cell_type": "code",
      "source": [
        " '''5.Create an iterator class in Python that generates the Fibonacci sequence up to a specified number of\n",
        "terms.'''\n",
        "class Fibonacci:\n",
        "    def __init__(self, terms):\n",
        "        self.terms, self.a, self.b = terms, 0, 1\n",
        "    def __iter__(self): return self\n",
        "    def __next__(self):\n",
        "        if self.terms <= 0: raise StopIteration\n",
        "        self.terms -= 1\n",
        "        self.a, self.b = self.b, self.a+self.b\n",
        "        return self.a\n",
        "\n",
        "print(list(Fibonacci(10)))"
      ],
      "metadata": {
        "colab": {
          "base_uri": "https://localhost:8080/"
        },
        "id": "tQ1c0zyIgtBH",
        "outputId": "694ac8ba-1797-4d02-9f73-d100c74685d8"
      },
      "execution_count": 8,
      "outputs": [
        {
          "output_type": "stream",
          "name": "stdout",
          "text": [
            "[1, 1, 2, 3, 5, 8, 13, 21, 34, 55]\n"
          ]
        }
      ]
    },
    {
      "cell_type": "code",
      "source": [
        "#6. Write a generator function in Python that yields the powers of 2 up to a given exponent\n",
        "def powers_of_two(n):\n",
        "    for i in range(n+1):\n",
        "        yield 2**i\n",
        "\n",
        "print(list(powers_of_two(5)))"
      ],
      "metadata": {
        "colab": {
          "base_uri": "https://localhost:8080/"
        },
        "id": "b5aT9mzQg6Q-",
        "outputId": "b2e1057f-29e6-4304-f5b6-d600a497ffc3"
      },
      "execution_count": 10,
      "outputs": [
        {
          "output_type": "stream",
          "name": "stdout",
          "text": [
            "[1, 2, 4, 8, 16, 32]\n"
          ]
        }
      ]
    },
    {
      "cell_type": "code",
      "source": [
        "#7.Implement a generator function that reads a file line by line and yields each line as a string.\n",
        "def read_file(file):\n",
        "    with open(file) as f:\n",
        "        for line in f:\n",
        "            yield line.strip()"
      ],
      "metadata": {
        "id": "j_rnqE4ohHn2"
      },
      "execution_count": 11,
      "outputs": []
    },
    {
      "cell_type": "code",
      "source": [
        "#8. Use a lambda function in Python to sort a list of tuples based on the second element of each tuple\n",
        "lst = [(1,5),(2,3),(4,1)]\n",
        "print(sorted(lst, key=lambda x: x[1]))  # [(4,1),(2,3),(1,5)]"
      ],
      "metadata": {
        "colab": {
          "base_uri": "https://localhost:8080/"
        },
        "id": "75DKWyBghCWD",
        "outputId": "8624906b-650b-4efa-d056-8c31bff7ab16"
      },
      "execution_count": 12,
      "outputs": [
        {
          "output_type": "stream",
          "name": "stdout",
          "text": [
            "[(4, 1), (2, 3), (1, 5)]\n"
          ]
        }
      ]
    },
    {
      "cell_type": "code",
      "source": [
        "# 9. Write a Python program that uses `map()` to convert a list of temperatures from Celsius to Fahrenheit.\n",
        "temps = [0, 20, 30, 40]\n",
        "fahrenheit = list(map(lambda c: (c*9/5)+32, temps))\n",
        "print(fahrenheit)  # [32.0, 68.0, 86.0, 104.0]"
      ],
      "metadata": {
        "colab": {
          "base_uri": "https://localhost:8080/"
        },
        "id": "2YV-zhIOhWyY",
        "outputId": "0d3f6e36-e3d0-4f3d-c436-9e9d2f35cd0a"
      },
      "execution_count": 13,
      "outputs": [
        {
          "output_type": "stream",
          "name": "stdout",
          "text": [
            "[32.0, 68.0, 86.0, 104.0]\n"
          ]
        }
      ]
    },
    {
      "cell_type": "code",
      "source": [
        "#10. Create a Python program that uses `filter()` to remove all the vowels from a given string.\n",
        "def remove_vowels(s):\n",
        "    return \"\".join(filter(lambda ch: ch.lower() not in \"aeiou\", s))\n",
        "\n",
        "print(remove_vowels(\"Hello World\"))  # \"Hll Wrld\""
      ],
      "metadata": {
        "colab": {
          "base_uri": "https://localhost:8080/"
        },
        "id": "eS4xqNR_hi-V",
        "outputId": "ff66eaeb-04fb-435f-93c7-f7a9050d9a3f"
      },
      "execution_count": 14,
      "outputs": [
        {
          "output_type": "stream",
          "name": "stdout",
          "text": [
            "Hll Wrld\n"
          ]
        }
      ]
    },
    {
      "cell_type": "code",
      "source": [
        "#11. Imagine an accounting routine used in a book shop. It works on a list with sublists, which look like this:\n",
        "\"\"\"Write a Python program, which returns a list with 2-tuples. Each tuple consists of the order number and the\n",
        "product of the price per item and the quantity. The product should be increased by 10,- € if the value of the\n",
        "order is smaller than 100,00 €.\n",
        "\n",
        "Write a Python program using lambda and map\"\"\"\n",
        "orders = [[34587, 'Learning Python', 4, 40.95],\n",
        "          [98762, 'Programming Python', 5, 56.80],\n",
        "          [77226, 'Head First Java', 3, 32.95],\n",
        "          [88112, 'Einführung in Python3', 3, 24.99]]\n",
        "\n",
        "result = list(map(lambda x: (x[0], x[2]*x[3] if x[2]*x[3] >= 100 else x[2]*x[3]+10), orders))\n",
        "print(result)\n"
      ],
      "metadata": {
        "colab": {
          "base_uri": "https://localhost:8080/"
        },
        "id": "W_83d265hulx",
        "outputId": "5c174346-82ed-4436-e98e-3e9b63337bb3"
      },
      "execution_count": 15,
      "outputs": [
        {
          "output_type": "stream",
          "name": "stdout",
          "text": [
            "[(34587, 163.8), (98762, 284.0), (77226, 108.85000000000001), (88112, 84.97)]\n"
          ]
        }
      ]
    }
  ]
}